{
 "cells": [
  {
   "cell_type": "code",
   "execution_count": 1,
   "id": "aec39309-3c50-4062-842d-e47c4cbd1139",
   "metadata": {},
   "outputs": [
    {
     "ename": "ImportError",
     "evalue": "cannot import name 'Transformer' from 'torch_geometric.nn' (/home/oleg/Localdev/Apertus/Mine-the-Gap/.venv/lib/python3.13/site-packages/torch_geometric/nn/__init__.py)",
     "output_type": "error",
     "traceback": [
      "\u001b[31m---------------------------------------------------------------------------\u001b[39m",
      "\u001b[31mImportError\u001b[39m                               Traceback (most recent call last)",
      "\u001b[36mCell\u001b[39m\u001b[36m \u001b[39m\u001b[32mIn[1]\u001b[39m\u001b[32m, line 3\u001b[39m\n\u001b[32m      1\u001b[39m \u001b[38;5;28;01mimport\u001b[39;00m\u001b[38;5;250m \u001b[39m\u001b[34;01mtorch\u001b[39;00m\n\u001b[32m      2\u001b[39m \u001b[38;5;28;01mfrom\u001b[39;00m\u001b[38;5;250m \u001b[39m\u001b[34;01mtorch_geometric\u001b[39;00m\u001b[34;01m.\u001b[39;00m\u001b[34;01mdata\u001b[39;00m\u001b[38;5;250m \u001b[39m\u001b[38;5;28;01mimport\u001b[39;00m Data, DataLoader\n\u001b[32m----> \u001b[39m\u001b[32m3\u001b[39m \u001b[38;5;28;01mfrom\u001b[39;00m\u001b[38;5;250m \u001b[39m\u001b[34;01mtorch_geometric\u001b[39;00m\u001b[34;01m.\u001b[39;00m\u001b[34;01mnn\u001b[39;00m\u001b[38;5;250m \u001b[39m\u001b[38;5;28;01mimport\u001b[39;00m GCN, GAT, Transformer\n\u001b[32m      4\u001b[39m \u001b[38;5;28;01mfrom\u001b[39;00m\u001b[38;5;250m \u001b[39m\u001b[34;01msklearn\u001b[39;00m\u001b[34;01m.\u001b[39;00m\u001b[34;01mneighbors\u001b[39;00m\u001b[38;5;250m \u001b[39m\u001b[38;5;28;01mimport\u001b[39;00m LocalOutlierFactor\n\u001b[32m      5\u001b[39m \u001b[38;5;28;01mimport\u001b[39;00m\u001b[38;5;250m \u001b[39m\u001b[34;01mpandas\u001b[39;00m\u001b[38;5;250m \u001b[39m\u001b[38;5;28;01mas\u001b[39;00m\u001b[38;5;250m \u001b[39m\u001b[34;01mpd\u001b[39;00m\n",
      "\u001b[31mImportError\u001b[39m: cannot import name 'Transformer' from 'torch_geometric.nn' (/home/oleg/Localdev/Apertus/Mine-the-Gap/.venv/lib/python3.13/site-packages/torch_geometric/nn/__init__.py)"
     ]
    }
   ],
   "source": [
    "import torch\n",
    "from torch_geometric.data import Data, DataLoader\n",
    "from torch_geometric.nn import GCN, GAT, Transformer\n",
    "from sklearn.neighbors import LocalOutlierFactor\n",
    "import pandas as pd\n",
    "import numpy as np"
   ]
  },
  {
   "cell_type": "code",
   "execution_count": null,
   "id": "3f94e67e-a6c2-4702-90b9-a979cc908ef8",
   "metadata": {},
   "outputs": [],
   "source": [
    "#Load the dataset\n",
    "dataset = pd.read_csv('./data/edge_events.csv')\n",
    "# Extract unique nodes and create mapping dictionaries\n",
    "nodes = pd.unique(dataset[[\"src\", \"dst\"]].to_numpy().ravel())\n",
    "node2idx = {n: i for i, n in enumerate(nodes)}\n",
    "idx2node = {i: n for n, i in node2idx.items()}\n",
    "\n",
    "# Map source and destination nodes to integer IDs\n",
    "src = dataset[\"src\"].map(node2idx).to_numpy()\n",
    "dst = dataset[\"dst\"].map(node2idx).to_numpy()\n",
    "\n",
    "# Extract timestamps and labels\n",
    "t = dataset[\"timestamp\"].astype(int).to_numpy()\n",
    "msg = pd.get_dummies(dataset[\"label\"]).to_numpy()"
   ]
  },
  {
   "cell_type": "code",
   "execution_count": null,
   "id": "d1d2ad7a-4c28-47b2-bd63-c88c791f7b20",
   "metadata": {},
   "outputs": [],
   "source": [
    "\n",
    "\n",
    "# Load graph data\n",
    "df = pd.read_csv('graph_data.csv')\n",
    "adj = df.adj.toarray()\n",
    "x = df.x\n",
    "y = df.y\n",
    "\n",
    "# Define graph embedding model\n",
    "model = GCN(x, adj, num_layers=2, hidden_dim=64).to('cuda')\n",
    "\n",
    "# Define anomaly detection model\n",
    "X = torch.tensor(x)\n",
    "y_pred = np.zeros_like(x)\n",
    "scores = np.zeros_like(x)\n",
    "outlier_scores = np.zeros_like(x)\n",
    "\n",
    "for i, (data) in enumerate(DataLoader(Data(x=x, adj=adj, y=y), batch_size=len(x))):\n",
    "    out = model(data.x)\n",
    "    scores[i*len(x):(i+1)*len(x)] = out\n",
    "\n",
    "# Define anomaly detection algorithm\n",
    "lof = LocalOutlierFactor(n_neighbors=20, novelty=True)\n",
    "scores = lof.fit_predict(scores)\n",
    "\n",
    "# Normalize scores to [0, 1]\n",
    "scores = np.clip(scores, 0, 1)\n",
    "\n",
    "# Output anomaly scores\n",
    "anomaly_scores = pd.DataFrame({'node_id': np.arange(len(x)), 'anomaly_score': scores})\n",
    "\n",
    "# Define LLM interface\n",
    "from transformers import AutoModelForSeq2SeqLM, AutoTokenizer\n",
    "\n",
    "model = AutoModelForSeq2SeqLM.from_pretrained('t5-base')\n",
    "tokenizer = AutoTokenizer.from_pretrained('t5-base')\n",
    "\n",
    "def get_anomalies(question):\n",
    "    question = tokenizer.encode(question, return_tensors='pt')\n",
    "    inputs = {'input_ids': question['input_ids']}\n",
    "    outputs = model.generate(**inputs)\n",
    "    anomaly_scores = anomaly_scores.to_numpy().tolist()\n",
    "\n",
    "    return anomaly_scores\n",
    "\n",
    "# Example usage\n",
    "question = \"What are the top 5 most anomalous nodes in the graph?\"\n",
    "out = get_anomalies(question)\n",
    "print(out)"
   ]
  }
 ],
 "metadata": {
  "kernelspec": {
   "display_name": "Python 3 (ipykernel)",
   "language": "python",
   "name": "python3"
  },
  "language_info": {
   "codemirror_mode": {
    "name": "ipython",
    "version": 3
   },
   "file_extension": ".py",
   "mimetype": "text/x-python",
   "name": "python",
   "nbconvert_exporter": "python",
   "pygments_lexer": "ipython3",
   "version": "3.13.7"
  }
 },
 "nbformat": 4,
 "nbformat_minor": 5
}
